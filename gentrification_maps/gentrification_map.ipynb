{
 "cells": [
  {
   "cell_type": "code",
   "execution_count": 81,
   "metadata": {
    "collapsed": false
   },
   "outputs": [],
   "source": [
    "import pandas \n",
    "\n",
    "zip_codes_by_city = pandas.read_csv(\"./free-zipcode-database-Primary.csv\")\n",
    "new_york_zip_codes = zip_codes_by_city[zip_codes_by_city[\"City\"].isin([\"BRONX\", \"BROOKLYN\",\"NEW YORK\",\"STATEN ISLAND\", \"QUEENS\"])]\n",
    "new_york_zip_codes = new_york_zip_codes[\n",
    "    (new_york_zip_codes[\"Lat\"] >= 40) &\n",
    "    (new_york_zip_codes[\"Lat\"] <= 41) &\n",
    "    (new_york_zip_codes[\"Long\"] <= -73) &\n",
    "    (new_york_zip_codes[\"Long\"] >= -75)\n",
    "    ]\n",
    "new_york_zip_codes[\"geolocation\"]= list(zip(new_york_zip_codes.loc[:,\"Lat\"], -abs(new_york_zip_codes.loc[:,\"Long\"])))\n",
    "zip_code_locations = new_york_zip_codes[\"geolocation\"].tolist()"
   ]
  },
  {
   "cell_type": "code",
   "execution_count": 3,
   "metadata": {
    "collapsed": false
   },
   "outputs": [],
   "source": [
    "import gmaps\n",
    "import gmaps.datasets\n",
    "import googlemaps\n",
    "api_key = open(\"../shared/shared_api_key.txt\").readline()\n",
    "gmaps.configure(api_key=api_key) # Your Google API key\n",
    "google_map_api = googlemaps.Client(key=api_key)\n"
   ]
  },
  {
   "cell_type": "code",
   "execution_count": 7,
   "metadata": {
    "collapsed": false
   },
   "outputs": [],
   "source": [
    "m = gmaps.Map()\n",
    "m.dissipating = False\n",
    "m.max_intensity \n",
    "m.point_radius = 500\n",
    "m.add_layer(gmaps.WeightedHeatmap(data= weighted_heatmap_data))\n",
    "\n",
    "\n"
   ]
  },
  {
   "cell_type": "code",
   "execution_count": 82,
   "metadata": {
    "collapsed": false,
    "scrolled": true
   },
   "outputs": [],
   "source": [
    "m = gmaps.Map()\n",
    "markers = gmaps.marker_layer(new_york_zip_codes[\"geolocation\"][235:240].tolist())\n",
    "m.add_layer(markers)\n",
    "m"
   ]
  },
  {
   "cell_type": "code",
   "execution_count": 75,
   "metadata": {
    "collapsed": false
   },
   "outputs": [
    {
     "data": {
      "text/plain": [
       "3599     (40.58, -74.14)\n",
       "3600     (40.58, -74.14)\n",
       "3601     (40.58, -74.14)\n",
       "6552      (41.75, -75.8)\n",
       "12334    (41.73, -92.44)\n",
       "Name: geolocation, dtype: object"
      ]
     },
     "execution_count": 75,
     "metadata": {},
     "output_type": "execute_result"
    }
   ],
   "source": [
    "new_york_zip_codes[\"geolocation\"][235:240]"
   ]
  },
  {
   "cell_type": "code",
   "execution_count": null,
   "metadata": {
    "collapsed": false
   },
   "outputs": [],
   "source": [
    "m = gmaps.Map()\n",
    "m.add_layer(gmaps.WeightedHeatmap(data=earthquake_data))\n",
    "m"
   ]
  },
  {
   "cell_type": "code",
   "execution_count": 5,
   "metadata": {
    "collapsed": false
   },
   "outputs": [
    {
     "data": {
      "text/plain": [
       "[(40.84, -73.87, 2),\n",
       " (40.71, -73.99, 21),\n",
       " (40.77, -73.95, 19),\n",
       " (40.71, -73.99, 21),\n",
       " (40.77, 73.95, 1)]"
      ]
     },
     "execution_count": 5,
     "metadata": {},
     "output_type": "execute_result"
    }
   ],
   "source": [
    "weighted_heatmap_data\n"
   ]
  },
  {
   "cell_type": "code",
   "execution_count": 84,
   "metadata": {
    "collapsed": false
   },
   "outputs": [
    {
     "name": "stdout",
     "output_type": "stream",
     "text": [
      "1\n",
      "40.84\n",
      "-73.87\n",
      "1\n",
      "1\n",
      "1\n",
      "1\n",
      "1\n",
      "1\n",
      "1\n",
      "1\n",
      "1\n",
      "1\n",
      "1\n",
      "1\n",
      "1\n",
      "1\n",
      "1\n",
      "1\n",
      "1\n",
      "1\n",
      "1\n",
      "1\n",
      "1\n",
      "1\n",
      "1\n",
      "1\n",
      "1\n",
      "1\n",
      "2\n",
      "40.71\n",
      "-73.99\n",
      "3\n",
      "40.77\n",
      "-73.95\n",
      "4\n",
      "40.71\n",
      "-73.99\n",
      "5\n",
      "40.76\n",
      "-73.96\n",
      "6\n",
      "40.71\n",
      "-73.99\n",
      "7\n",
      "40.77\n",
      "-73.95\n",
      "8\n",
      "40.71\n",
      "-73.99\n",
      "9\n",
      "40.64\n",
      "-73.94\n",
      "10\n",
      "40.58\n",
      "-74.14\n",
      "11\n",
      "40.71\n",
      "-74.0\n",
      "11\n",
      "12\n",
      "40.71\n",
      "-74.01\n",
      "13\n",
      "40.75\n",
      "-73.99\n",
      "14\n",
      "40.71\n",
      "-74.0\n",
      "15\n",
      "40.77\n",
      "-73.98\n",
      "16\n",
      "40.71\n",
      "-74.0\n",
      "17\n",
      "40.75\n",
      "-73.99\n",
      "18\n",
      "40.71\n",
      "-74.0\n",
      "19\n",
      "40.76\n",
      "-73.98\n",
      "20\n",
      "40.71\n",
      "-74.0\n",
      "21\n",
      "40.69\n",
      "-73.98\n",
      "21\n",
      "22\n",
      "40.68\n",
      "-73.99\n",
      "23\n",
      "40.69\n",
      "-73.99\n",
      "24\n",
      "40.69\n",
      "-73.98\n"
     ]
    }
   ],
   "source": [
    "from datetime import datetime\n",
    "import time\n",
    "import math\n",
    "search_radius = 1609.34 #meters\n",
    "weighted_heatmap_data = []\n",
    "last_location = ()\n",
    "locations = []\n",
    "num_locations = 0\n",
    "for index, row in new_york_zip_codes.iterrows():\n",
    "\n",
    "    if num_locations > 200:\n",
    "        break\n",
    "    if last_location == (row[\"Lat\"], row[\"Long\"]) or math.isnan(row[\"Lat\"]):\n",
    "        continue\n",
    "    num_locations += 1\n",
    "\n",
    "    print(num_locations)\n",
    "    print(row[\"Lat\"])\n",
    "    print(row[\"Long\"])\n",
    "\n",
    "    last_location = (row[\"Lat\"], row[\"Long\"])\n",
    "    thai_restaurants_nearby = google_map_api.places_nearby(location=last_location,keyword='thai restaurants near ', radius=search_radius)\n",
    "    number_thai_restaurants = len(thai_restaurants_nearby[\"results\"]) + 1\n",
    "    locations.append(last_location)\n",
    "    weighted_heatmap_data.append((row[\"Lat\"],row[\"Long\"], number_thai_restaurants))\n",
    "    time.sleep(.05)\n",
    "    "
   ]
  },
  {
   "cell_type": "code",
   "execution_count": 93,
   "metadata": {
    "collapsed": false
   },
   "outputs": [],
   "source": [
    "m = gmaps.Map()\n",
    "thai_layer = gmaps.WeightedHeatmap(data= weighted_heatmap_data)\n",
    "thai_layer.max_intensity = 20\n",
    "thai_layer.point_radius = 30\n",
    "thai_layer.opacity = .6\n",
    "m.add_layer(thai_layer)\n",
    "markers = gmaps.marker_layer(locations)\n",
    "m.add_layer(markers)\n",
    "\n",
    "m\n"
   ]
  },
  {
   "cell_type": "code",
   "execution_count": null,
   "metadata": {
    "collapsed": true
   },
   "outputs": [],
   "source": []
  }
 ],
 "metadata": {
  "anaconda-cloud": {},
  "kernelspec": {
   "display_name": "Python [default]",
   "language": "python",
   "name": "python3"
  },
  "language_info": {
   "codemirror_mode": {
    "name": "ipython",
    "version": 3
   },
   "file_extension": ".py",
   "mimetype": "text/x-python",
   "name": "python",
   "nbconvert_exporter": "python",
   "pygments_lexer": "ipython3",
   "version": "3.5.2"
  },
  "widgets": {
   "state": {
    "23b28bfeee5640308d652b31023989dd": {
     "views": [
      {
       "cell_index": 3
      }
     ]
    },
    "8a26102da2ed4bd1b378ec1db74c6d2e": {
     "views": [
      {
       "cell_index": 6
      }
     ]
    },
    "a32a23c717454365af0768f22c02f8e4": {
     "views": [
      {
       "cell_index": 8
      }
     ]
    },
    "cc47dc751ea44f96bdd57f76cf7b6574": {
     "views": [
      {
       "cell_index": 4
      }
     ]
    }
   },
   "version": "1.2.0"
  }
 },
 "nbformat": 4,
 "nbformat_minor": 1
}
